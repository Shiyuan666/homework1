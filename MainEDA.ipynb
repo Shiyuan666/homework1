{
 "cells": [
  {
   "cell_type": "markdown",
   "id": "c80ce3a5",
   "metadata": {},
   "source": [
    "## Headers Translation"
   ]
  },
  {
   "cell_type": "code",
   "execution_count": 4,
   "id": "0730bc0f",
   "metadata": {},
   "outputs": [
    {
     "name": "stdout",
     "output_type": "stream",
     "text": [
      "['agenda', 'deteccioncomplicacionesma', 'deteccioncomplicacionesre', 'hc', 'hc_hospitalizaciones', 'historialcitascanceladas', 'historialcitasagendadas', 'pacientes', 'paquetes', 'periodosrecetas', 'pr_razones', 'prospectos']\n"
     ]
    }
   ],
   "source": [
    "import pandas as pd\n",
    "import numpy as np\n",
    "import seaborn as sns\n",
    "from dataprep.eda import create_report\n",
    "\n",
    "#READ EXCEL DATA FILE AND SHEET NAMES TO BE ANALYZED\n",
    "data_xl = pd.ExcelFile('./Balance - Tablas (Parte 1 ).xlsx')\n",
    "SA_sheets = data_xl.sheet_names[0:12]\n",
    "print(SA_sheets)\n",
    "\n",
    "#READING SPECIFIC SHEETS TO DATAFRAME DICTIONARY\n",
    "list_pandas = []\n",
    "list_columns = []\n",
    "for i in range(12):\n",
    "    list_pandas.append(data_xl.parse(SA_sheets[i]))\n",
    "    list_columns.append(list_pandas[i].columns)\n",
    "\n",
    "#READING COLUMN HEADER DICTIONARY SPANISH TO ENGLISH\n",
    "translate_dict = pd.read_excel('./DataDictionary.xlsx')\n",
    "translate_dict.head(3)\n",
    "dict_dictionary = dict(zip(translate_dict['Field'], translate_dict['Description']))\n",
    "\n",
    "#TRANSLATING HEADERS\n",
    "list_columns_t = []\n",
    "for i in range(len(list_columns)):\n",
    "    columns_t = []\n",
    "    for j in range(len(list_columns[i])):\n",
    "        if list_columns[i][j] in dict_dictionary.keys():\n",
    "            columns_t.append(dict_dictionary.get(list_columns[i][j]))\n",
    "        else:\n",
    "            columns_t.append(list_columns[i][j])\n",
    "    list_columns_t.append(columns_t)\n",
    "    \n",
    "#APPLYING NEW HEADER NAMES\n",
    "for i in range(len(list_pandas)):\n",
    "#    print(i,\"--\",list_pandas[i].shape) #CHECKING BEFORE AND AFTER DF SHAPE\n",
    "    list_pandas[i].columns = list_columns_t[i]\n",
    "#    print(i,\"--\",list_pandas[i].shape) #CHECKING BEFORE AND AFTER DF SHAPE"
   ]
  },
  {
   "cell_type": "markdown",
   "id": "38e1aa18",
   "metadata": {},
   "source": [
    "## Profiling and cleaning dataset"
   ]
  },
  {
   "cell_type": "code",
   "execution_count": null,
   "id": "9cfec861",
   "metadata": {},
   "outputs": [],
   "source": []
  },
  {
   "cell_type": "markdown",
   "id": "36a8d302",
   "metadata": {},
   "source": [
    "## Derive subsets of the outcome variables\n",
    "\n",
    "*   Skips appointment \n",
    "*\tCancels appointment\n",
    "*\tReschedules appointment"
   ]
  },
  {
   "cell_type": "code",
   "execution_count": null,
   "id": "12e2b991",
   "metadata": {},
   "outputs": [],
   "source": []
  },
  {
   "cell_type": "markdown",
   "id": "1289622b",
   "metadata": {},
   "source": [
    "## Derive a subset of the engagement predictor variables\n",
    "\n",
    "\n",
    "*    Demographics. For example, marital status could be derived from EstadoCivil\n",
    "*    Geography. For example, distance from clinic is dependent on city and state which are in Ciudad and Estado respectively\n"
   ]
  },
  {
   "cell_type": "code",
   "execution_count": null,
   "id": "ffdab2a7",
   "metadata": {},
   "outputs": [],
   "source": []
  }
 ],
 "metadata": {
  "kernelspec": {
   "display_name": "Python 3",
   "language": "python",
   "name": "python3"
  },
  "language_info": {
   "codemirror_mode": {
    "name": "ipython",
    "version": 3
   },
   "file_extension": ".py",
   "mimetype": "text/x-python",
   "name": "python",
   "nbconvert_exporter": "python",
   "pygments_lexer": "ipython3",
   "version": "3.8.8"
  }
 },
 "nbformat": 4,
 "nbformat_minor": 5
}
