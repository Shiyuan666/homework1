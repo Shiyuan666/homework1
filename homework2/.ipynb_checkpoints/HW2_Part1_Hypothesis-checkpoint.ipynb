{
 "cells": [
  {
   "cell_type": "markdown",
   "metadata": {},
   "source": [
    "**Team 1 :**\n",
    "   * Shobhit Aggarwal (shobhita)\n",
    "   * Ho Kit Fu (hoikitf)\n",
    "   * Shiyuan Li (shiyuan2)"
   ]
  },
  {
   "cell_type": "code",
   "execution_count": 11,
   "metadata": {},
   "outputs": [],
   "source": [
    "import numpy as np # linear algebra\n",
    "import pandas as pd # data processing, Excel file I/O (e.g. pd.read_excel)\n",
    "import matplotlib.pyplot as plt\n",
    "%matplotlib inline\n",
    "import seaborn as sns\n",
    "pd.set_option('display.max_rows', 50)\n",
    "pd.options.display.max_rows = 999"
   ]
  },
  {
   "cell_type": "code",
   "execution_count": 12,
   "metadata": {},
   "outputs": [],
   "source": [
    "df_matrix_for_cluster = pd.read_csv('./matrix_for_cluster.csv')\n",
    "import numpy as np\n",
    "import pandas as pd\n",
    "import matplotlib.pyplot as plt\n",
    "import seaborn as sns\n",
    "from sklearn.cluster import KMeans\n",
    "from sklearn import preprocessing\n",
    "from sklearn.metrics import silhouette_score\n",
    "from sklearn.tree import DecisionTreeRegressor \n",
    "from sklearn import tree\n",
    "from sklearn import linear_model\n",
    "from sklearn.model_selection import train_test_split\n",
    "from sklearn import metrics"
   ]
  },
  {
   "cell_type": "code",
   "execution_count": 13,
   "metadata": {},
   "outputs": [],
   "source": [
    "#data imported for hypothesis testing.\n",
    "df_demo = pd.read_csv('./patient_demographics.csv')\n",
    "df_geog = pd.read_csv('./patient_geography.csv')\n",
    "df_cancel_mem = pd.read_csv('./cancels_membership.csv')\n",
    "df_renew_mem = pd.read_csv('./renews_membership.csv')\n",
    "df_single_buy = pd.read_csv('./single_service_buys_something.csv')\n",
    "df_all_buy  = pd.read_csv('./all_service_buys_something.csv')\n",
    "df_single_appoint = pd.read_csv('./SingleServiceAppointment.csv')\n",
    "df_all_appoint  = pd.read_csv('./AllServiceAppointment.csv')\n",
    "df_social = pd.read_csv('./SocialSupport.csv')\n"
   ]
  },
  {
   "cell_type": "markdown",
   "metadata": {},
   "source": [
    "### Testing Hypothesis 1 from Group 2\n",
    "\n",
    "#### *Commitment contract that mentions more family or loved ones will tend to have higher retention rates.*"
   ]
  },
  {
   "cell_type": "code",
   "execution_count": 14,
   "metadata": {},
   "outputs": [
    {
     "name": "stdout",
     "output_type": "stream",
     "text": [
      "Emotional support vs Renew Membership\n",
      "emotion_support  value\n",
      "True             1.0      27863\n",
      "False            1.0      14122\n",
      "                 0.0       2367\n",
      "True             0.0       1321\n",
      "Name: value, dtype: int64\n"
     ]
    }
   ],
   "source": [
    "#Testing Hpyothesis 1 from Group 2\n",
    "\n",
    "#Commitment contract that mentions more family or loved ones will tend to have higher retention rates.\n",
    "\n",
    "#Testing social emotional support vs renew membership\n",
    "df_demo_social = pd.merge(df_demo, df_social, left_on='Patient ID',right_on='IdPaciente', how=\"left\")\n",
    "\n",
    "#if ApoyoSocialEmocional is equal to 1, have support. Else it is 0 (false)\n",
    "df_demo_social['emotion_support'] = df_demo_social['ApoyoSocialEmocional'] == 1\n",
    "\n",
    "#Merge with renew membership table\n",
    "df_demo_social_remem = pd.merge(df_demo_social, df_renew_mem, left_on='Patient ID',right_on='IdPaciente', how=\"right\")\n",
    "\n",
    "#Testing emotional support vs renew memembership\n",
    "print(\"Emotional support vs Renew Membership\")\n",
    "print(df_demo_social_remem.groupby(['emotion_support', 'value'])['value'].count().sort_values(ascending=False))"
   ]
  },
  {
   "cell_type": "markdown",
   "metadata": {},
   "source": [
    "Observation and Conclusion: For patients with emotional support, 95.47% would renew their membership.\n",
    "For patient without emotional support, 85.64% would renew their membership.\n",
    "#### *It is verified that patients with emotional support will tend to have higher retention rates.*"
   ]
  },
  {
   "cell_type": "markdown",
   "metadata": {},
   "source": [
    "### Testing Hypothesis 2 from Group 2\n",
    "#### *Patients who need more clinical attention (either more time in clinic or referral to specialists) are more likely to stay engaged.*"
   ]
  },
  {
   "cell_type": "code",
   "execution_count": 15,
   "metadata": {},
   "outputs": [],
   "source": [
    "#Duration from Single Service Appointment.\n",
    "df_single_appoint.head()\n",
    "\n",
    "df_single_appoint['time_diff'] = pd.to_datetime(df_single_appoint['HoraSalida']) - pd.to_datetime(df_single_appoint['HoraEntrada'])\n"
   ]
  },
  {
   "cell_type": "code",
   "execution_count": 16,
   "metadata": {
    "scrolled": true
   },
   "outputs": [
    {
     "name": "stdout",
     "output_type": "stream",
     "text": [
      "more clinical attention vs Renew Membership\n",
      "More time in clinic  value\n",
      "False                1.0      24039\n",
      "True                 1.0      15169\n",
      "False                0.0       1408\n",
      "True                 0.0        245\n",
      "Name: value, dtype: int64\n"
     ]
    }
   ],
   "source": [
    "#Aggregate the time spent for each patient\n",
    "df_single_appoint_agg = df_single_appoint.groupby(['IdPaciente'])['time_diff'].agg(['sum'])\n",
    "df_single_appoint_agg['hour'] = df_single_appoint_agg['sum'] / pd.Timedelta('1 hour')\n",
    "\n",
    "#Assume that high clinical attention means 6 hours aggregated in the clinic. \n",
    "df_single_appoint_agg['More time in clinic'] = df_single_appoint_agg['hour'] >= 6\n",
    "\n",
    "df_single_appoint_remem = pd.merge(df_single_appoint_agg, df_renew_mem, left_on='IdPaciente',right_on='IdPaciente', how=\"right\")\n",
    "\n",
    "#Testing more clinical attention vs renew memembership\n",
    "print(\"more clinical attention vs Renew Membership\")\n",
    "print(df_single_appoint_remem.groupby(['More time in clinic', 'value'])['value'].count().sort_values(ascending=False))"
   ]
  },
  {
   "cell_type": "markdown",
   "metadata": {},
   "source": [
    "* For patients  who have more time in clinic, 98.41% of them renew their membership at least for once.\n",
    "* For patients  who DONT have more time in clinic, 94.46% of them renew their membership at least for once.\n",
    "\n",
    "#### *Conclusion: There are no significant difference between the two group of patients.*"
   ]
  },
  {
   "cell_type": "markdown",
   "metadata": {},
   "source": [
    "### Testing Hypothesis 3 from Group 2\n",
    "#### *Patients will be likely to have higher engagement if they live in same city as their clinic.*"
   ]
  },
  {
   "cell_type": "code",
   "execution_count": 17,
   "metadata": {},
   "outputs": [
    {
     "name": "stdout",
     "output_type": "stream",
     "text": [
      "Town and branch vs single Service buy\n",
      "Town                      Branch id  value\n",
      "GUADALUPE                 1.0        0.0      1921\n",
      "                                     1.0      1586\n",
      "MONTERREY                 4.0        1.0      1070\n",
      "                          5.0        1.0      1066\n",
      "SANTA CATARINA            2.0        0.0      1028\n",
      "                                     1.0       688\n",
      "MONTERREY                 4.0        0.0       666\n",
      "                          5.0        0.0       656\n",
      "                          1.0        0.0       646\n",
      "APODACA                   6.0        1.0       590\n",
      "MONTERREY                 1.0        1.0       520\n",
      "GENERAL ESCOBEDO          3.0        0.0       458\n",
      "ESCOBEDO                  3.0        0.0       403\n",
      "APODACA                   1.0        1.0       392\n",
      "                                     0.0       374\n",
      "GENERAL ESCOBEDO          3.0        1.0       351\n",
      "APODACA                   6.0        0.0       351\n",
      "SAN NICOLÁS DE LOS GARZA  1.0        1.0       345\n",
      "JUÁREZ                    1.0        1.0       313\n",
      "                                     0.0       305\n",
      "Name: value, dtype: int64\n",
      "Town and branchvs all service buy\n",
      "Town                      Branch id  value\n",
      "GUADALUPE                 1.0        0.0      1737\n",
      "                                     1.0      1396\n",
      "MONTERREY                 5.0        1.0      1005\n",
      "SANTA CATARINA            2.0        0.0       953\n",
      "MONTERREY                 4.0        1.0       797\n",
      "SANTA CATARINA            2.0        1.0       653\n",
      "MONTERREY                 4.0        0.0       578\n",
      "                          1.0        0.0       572\n",
      "                          5.0        0.0       520\n",
      "                          1.0        1.0       512\n",
      "APODACA                   6.0        1.0       412\n",
      "GENERAL ESCOBEDO          3.0        0.0       408\n",
      "ESCOBEDO                  3.0        0.0       394\n",
      "APODACA                   1.0        1.0       365\n",
      "                                     0.0       331\n",
      "GENERAL ESCOBEDO          3.0        1.0       316\n",
      "APODACA                   6.0        0.0       305\n",
      "JUÁREZ                    1.0        1.0       281\n",
      "SAN NICOLÁS DE LOS GARZA  1.0        1.0       280\n",
      "JUÁREZ                    1.0        0.0       246\n",
      "Name: value, dtype: int64\n"
     ]
    }
   ],
   "source": [
    "#Town and Branch\n",
    "df_geog_sin_buy = pd.merge(df_geog, df_single_buy, left_on='Patient ID',right_on='IdPaciente', how=\"right\")\n",
    "df_geog_all_buy = pd.merge(df_geog, df_all_buy, left_on='Patient ID',right_on='IdPaciente', how=\"right\")\n",
    "\n",
    "print(\"Town and branch vs single Service buy\")\n",
    "print(df_geog_sin_buy.groupby(['Town','Branch id', 'value'])['value'].count().sort_values(ascending=False)[0:20])\n",
    "\n",
    "print(\"Town and branchvs all service buy\")\n",
    "print(df_geog_all_buy.groupby(['Town','Branch id', 'value'])['value'].count().sort_values(ascending=False)[0:20])\n",
    "\n",
    "\n",
    "#Indirect test of the hypothesis - is there only 1-1 mapping from patient's town to Branch ID.\n",
    "#We cannot draw any conclusion whether patients will be likely to have higher engagement \n",
    "#if they live in same city as their clinic."
   ]
  },
  {
   "cell_type": "markdown",
   "metadata": {},
   "source": [
    "Indirect test of the hypothesis - is there only 1-1 mapping from patient's town to Branch ID.\n",
    "#### *We cannot draw any conclusion whether patients will be likely to have higher engagement if they live in same city as their clinic.*"
   ]
  },
  {
   "cell_type": "markdown",
   "metadata": {},
   "source": [
    "### Testing Hypothesis 4 from Group 2\n",
    "#### *Patients with indicators of higher wealth (expensive neighborhoods, high paying jobs) will be more likely to engage and renew.*"
   ]
  },
  {
   "cell_type": "code",
   "execution_count": 18,
   "metadata": {},
   "outputs": [
    {
     "name": "stdout",
     "output_type": "stream",
     "text": [
      "Testing Occupation vs Single Service Appontment\n",
      "Ocupacion      value\n",
      "EMPLEADO       0.0      4186\n",
      "HOGAR          1.0      4015\n",
      "EMPLEADO       1.0      3760\n",
      "HOGAR          0.0      3535\n",
      "INDEPENDIENTE  1.0      1252\n",
      "PENSIONADO     1.0      1186\n",
      "INDEPENDIENTE  0.0      1136\n",
      "PENSIONADO     0.0       795\n",
      "DESEMPLEADO    0.0       277\n",
      "               1.0       187\n",
      "COMERCIANTE    0.0        82\n",
      "EMPLEADA       0.0        40\n",
      "JUBILADO       0.0        22\n",
      "VENTAS         0.0        22\n",
      "ESTUDIANTE     0.0        18\n",
      "Name: value, dtype: int64\n",
      "Testing Occupation vs All Service Appontment\n",
      "Ocupacion      value\n",
      "EMPLEADO       0.0      3661\n",
      "               1.0      3536\n",
      "HOGAR          0.0      3264\n",
      "               1.0      3125\n",
      "INDEPENDIENTE  1.0      1185\n",
      "               0.0       942\n",
      "PENSIONADO     1.0       804\n",
      "               0.0       746\n",
      "DESEMPLEADO    0.0       252\n",
      "               1.0       177\n",
      "COMERCIANTE    0.0        81\n",
      "EMPLEADA       0.0        40\n",
      "VENTAS         0.0        20\n",
      "JUBILADO       0.0        19\n",
      "ESTUDIANTE     0.0        19\n",
      "Name: value, dtype: int64\n",
      "Testing Occupation vs Cancelled Membership\n",
      "Ocupacion       value\n",
      "EMPLEADO        1.0      15518\n",
      "HOGAR           1.0      14792\n",
      "INDEPENDIENTE   1.0       4503\n",
      "PENSIONADO      1.0       3695\n",
      "EMPLEADO        0.0       1373\n",
      "HOGAR           0.0       1191\n",
      "DESEMPLEADO     1.0        998\n",
      "INDEPENDIENTE   0.0        250\n",
      "PENSIONADO      0.0        200\n",
      "DESEMPLEADO     0.0         86\n",
      "COMERCIANTE     0.0         78\n",
      "EMPLEADA        0.0         36\n",
      "                1.0         28\n",
      "ESTUDIANTE      1.0         27\n",
      "AGUA Y DRENAJE  1.0         27\n",
      "Name: value, dtype: int64\n"
     ]
    }
   ],
   "source": [
    "#Testing Occupation vs Single Service Appontment\n",
    "df_demo_can_mem = pd.merge(df_demo, df_cancel_mem, left_on='Patient ID',right_on='IdPaciente', how=\"right\")\n",
    "df_demo_re_mem = pd.merge(df_demo, df_renew_mem, left_on='Patient ID',right_on='IdPaciente', how=\"right\")\n",
    "df_demo_sin_buy = pd.merge(df_demo, df_single_buy, left_on='Patient ID',right_on='IdPaciente', how=\"right\")\n",
    "df_demo_all_buy = pd.merge(df_demo, df_all_buy, left_on='Patient ID',right_on='IdPaciente', how=\"right\")\n",
    "\n",
    "print(\"Testing Occupation vs Single Service Appontment\")\n",
    "print(df_demo_sin_buy.groupby(['Ocupacion', 'value'])['value'].count().sort_values(ascending=False)[0:15])\n",
    "\n",
    "\n",
    "print(\"Testing Occupation vs All Service Appontment\")\n",
    "print(df_demo_all_buy.groupby(['Ocupacion', 'value'])['value'].count().sort_values(ascending=False)[0:15])\n",
    "\n",
    "print(\"Testing Occupation vs Cancelled Membership\")\n",
    "print(df_demo_re_mem.groupby(['Ocupacion', 'value'])['value'].count().sort_values(ascending=False)[0:15])"
   ]
  },
  {
   "cell_type": "markdown",
   "metadata": {},
   "source": [
    "#### Comments: In general, there is no signficance difference in terms of eneagement for patients with different jobs.\n",
    "\n",
    "#### Pensioner(PENSIONADO): Some pensioners are more likely to buy single service/all service appointment"
   ]
  },
  {
   "cell_type": "markdown",
   "metadata": {},
   "source": [
    "### Testing Hypothesis 5 from Group 2\n",
    "#### *Patients under age 40 are more likely to have higher engagement than older patients.*"
   ]
  },
  {
   "cell_type": "code",
   "execution_count": 19,
   "metadata": {
    "scrolled": true
   },
   "outputs": [
    {
     "name": "stdout",
     "output_type": "stream",
     "text": [
      "Age < 40 vs Cancel Membership\n",
      "Age < 40  value\n",
      "False     1.0      34723\n",
      "          0.0       5853\n",
      "True      1.0       2391\n",
      "          0.0        486\n",
      "Name: value, dtype: int64\n",
      "Age < 40 vs Renew Membership\n",
      "Age < 40  value\n",
      "False     1.0      37758\n",
      "          0.0       3387\n",
      "True      1.0       2143\n",
      "          0.0        285\n",
      "Name: value, dtype: int64\n"
     ]
    }
   ],
   "source": [
    "#Testing Hpyothesis 5 from Group 2\n",
    "#Patients under age 40 are more likely to have higher engagement than older patients.\n",
    "\n",
    "df_demo['Age'] = 2021 - df_demo['YearBirth']\n",
    "df_demo['Age < 40'] = df_demo['Age'] < 40\n",
    "# merging df1 and df2 with merge function \n",
    "df_demo_can_mem = pd.merge(df_demo, df_cancel_mem, left_on='Patient ID',right_on='IdPaciente', how=\"right\")\n",
    "df_demo_re_mem = pd.merge(df_demo, df_renew_mem, left_on='Patient ID',right_on='IdPaciente', how=\"right\")\n",
    "\n",
    "#Testing age vs cancellation memembership\n",
    "print(\"Age < 40 vs Cancel Membership\")\n",
    "print(df_demo_can_mem.groupby(['Age < 40', 'value'])['value'].count().sort_values(ascending=False))\n",
    "#Comments: For patients with age >= 40, 85.64% of them will cancel. For patients with age < 40, 83.11% of them will cancel.\n",
    "\n",
    "\n",
    "#Testing age vs renew memembership\n",
    "print(\"Age < 40 vs Renew Membership\")\n",
    "print(df_demo_re_mem.groupby(['Age < 40', 'value'])['value'].count().sort_values(ascending=False))\n"
   ]
  },
  {
   "cell_type": "markdown",
   "metadata": {},
   "source": [
    "**Comments**: For patients with age >= 40, 91.77% of them will renew at least once.\n",
    "For patients with age < 40, 88.26% of them will renew.\n",
    "\n",
    "#### *Observation and conclusion: There is no signfiance difference/correlation between age < 40 and patient engagement.*"
   ]
  },
  {
   "cell_type": "markdown",
   "metadata": {},
   "source": [
    "### Testing Hypothesis 6 from Group 2\n",
    "#### *Educated patients will be more likely to have higher engagement.*"
   ]
  },
  {
   "cell_type": "code",
   "execution_count": 21,
   "metadata": {},
   "outputs": [
    {
     "name": "stdout",
     "output_type": "stream",
     "text": [
      "Town and branch vs single Service buy\n",
      "Escolaridad      value\n",
      "PREPARATORIA     0.0      1023\n",
      "SECUNDARIA       0.0       974\n",
      "PRIMARIA         0.0       866\n",
      "                 1.0       777\n",
      "LICENCIATURA     0.0       742\n",
      "PREPARATORIA     1.0       732\n",
      "LICENCIATURA     1.0       729\n",
      "SECUNDARIA       1.0       606\n",
      "MAESTRIA         1.0       115\n",
      "LEER Y ESCRIBIR  0.0       107\n",
      "MAESTRIA         0.0        90\n",
      "LEER Y ESCRIBIR  1.0        80\n",
      "NINGUNA          0.0        68\n",
      "                 1.0        32\n",
      "DOCTORADO        0.0        13\n",
      "Name: value, dtype: int64\n",
      "Town and branchvs all service buy\n",
      "Escolaridad      value\n",
      "PREPARATORIA     0.0      985\n",
      "SECUNDARIA       0.0      917\n",
      "PRIMARIA         0.0      828\n",
      "LICENCIATURA     0.0      698\n",
      "                 1.0      598\n",
      "PREPARATORIA     1.0      563\n",
      "PRIMARIA         1.0      550\n",
      "SECUNDARIA       1.0      538\n",
      "LEER Y ESCRIBIR  0.0      104\n",
      "MAESTRIA         1.0      102\n",
      "                 0.0       80\n",
      "NINGUNA          0.0       62\n",
      "LEER Y ESCRIBIR  1.0       54\n",
      "NINGUNA          1.0       30\n",
      "DOCTORADO        0.0       12\n",
      "Name: value, dtype: int64\n",
      "Education Level vs Renew Membership\n",
      "Escolaridad      value\n",
      "PREPARATORIA     1.0      3122\n",
      "PRIMARIA         1.0      3037\n",
      "SECUNDARIA       1.0      2653\n",
      "LICENCIATURA     1.0      2206\n",
      "PREPARATORIA     0.0       541\n",
      "SECUNDARIA       0.0       537\n",
      "MAESTRIA         1.0       476\n",
      "PRIMARIA         0.0       466\n",
      "LICENCIATURA     0.0       431\n",
      "LEER Y ESCRIBIR  1.0       344\n",
      "NINGUNA          1.0       161\n",
      "DOCTORADO        1.0        67\n",
      "LEER Y ESCRIBIR  0.0        59\n",
      "MAESTRIA         0.0        28\n",
      "NINGUNA          0.0        28\n",
      "DOCTORADO        0.0         1\n",
      "Name: value, dtype: int64\n"
     ]
    }
   ],
   "source": [
    "xls = pd.ExcelFile('./Balance1.xlsx')\n",
    "df_pacientes = pd.read_excel(xls, 'pacientes')\n",
    "\n",
    "df_pacientes_school = df_pacientes[['IdPaciente','Escolaridad']]\n",
    "df_pacientes_school = df_pacientes_school.dropna()\n",
    "\n",
    "df_pacientes_sin_buy = pd.merge(df_pacientes_school, df_single_buy, left_on='IdPaciente',right_on='IdPaciente', how=\"right\")\n",
    "df_pacientes_all_buy = pd.merge(df_pacientes_school, df_all_buy, left_on='IdPaciente',right_on='IdPaciente', how=\"right\")\n",
    "\n",
    "print(\"Town and branch vs single Service buy\")\n",
    "print(df_pacientes_sin_buy.groupby(['Escolaridad','value'])['value'].count().sort_values(ascending=False)[0:15])\n",
    "\n",
    "print(\"Town and branchvs all service buy\")\n",
    "print(df_pacientes_all_buy.groupby(['Escolaridad','value'])['value'].count().sort_values(ascending=False)[0:15])\n",
    "\n",
    "#Merge with renew membership table\n",
    "df_pacientes_social_remem = pd.merge(df_pacientes_school, df_renew_mem, left_on='IdPaciente',right_on='IdPaciente', how=\"right\")\n",
    "\n",
    "#Testing emotional support vs renew memembership\n",
    "print(\"Education Level vs Renew Membership\")\n",
    "print(df_pacientes_social_remem.groupby(['Escolaridad', 'value'])['value'].count().sort_values(ascending=False))"
   ]
  },
  {
   "cell_type": "markdown",
   "metadata": {},
   "source": [
    "No signficance difference between patients with secondary and bacelor degree\n",
    "Somewhat higher difference for master degree (MAESTRIA) on single service buy (56%) and all service buy(56%).\n",
    "Patient with PREPARATORY education tend NOT to buy single service (58%)/all service(64%)\n",
    "\n",
    "#### *It can be concluded that Educated patients will be more likely to have higher engagement.*"
   ]
  },
  {
   "cell_type": "code",
   "execution_count": null,
   "metadata": {},
   "outputs": [],
   "source": [
    "#Testing Hpyothesis 7 from Group 2\n",
    "#Patients with close family members who are engaged at that clinic will be more likely to\n",
    "#have high engagement.\n",
    "\n",
    "#There is no available data for testing this hypothesis - no data mentioning the family members of the patients at clinic"
   ]
  },
  {
   "cell_type": "code",
   "execution_count": null,
   "metadata": {},
   "outputs": [],
   "source": [
    "#Testing Hpyothesis 8 from Group 2\n",
    "#Patients who fill out their details correctly during initial assessment will be more likely to\n",
    "#have higher engagement.\n",
    "\n",
    "#There is no available data for testing this hypothesis - no data mentioning how accuractely patients fill out their \n",
    "#details during initial assessment"
   ]
  },
  {
   "cell_type": "code",
   "execution_count": null,
   "metadata": {},
   "outputs": [],
   "source": [
    "#Testing Hpyothesis 9 from Group 2\n",
    "#People with lower A1C drop out faster than people with Higher A1C.\n",
    "\n",
    "#There is no available data for testing this hypothesis - no data mentioning the exact A1C level of patients.\n"
   ]
  },
  {
   "cell_type": "markdown",
   "metadata": {},
   "source": [
    "### Testing Hypothesis 10 from Group 2\n",
    "#### *People who are aware of their condition prior to coming to the clinic are less likely to drop out than those who are not.*\n",
    "\n",
    "AHFDM - patient family diabetes or NOT.\n",
    "Cancelled membership."
   ]
  },
  {
   "cell_type": "code",
   "execution_count": 22,
   "metadata": {},
   "outputs": [
    {
     "name": "stdout",
     "output_type": "stream",
     "text": [
      "Testing patient family diabetes vs Cancelled Membership\n",
      "AHFDM  value\n",
      "0.0    0.0       1325\n",
      "1.0    0.0       3378\n",
      "0.0    1.0       7283\n",
      "1.0    1.0      29249\n",
      "Name: value, dtype: int64\n"
     ]
    }
   ],
   "source": [
    "xls = pd.ExcelFile('./Balance1.xlsx')\n",
    "df_hc = pd.read_excel(xls, 'hc')\n",
    "\n",
    "df_hc_AHFDM = df_hc[['IdPaciente','AHFDM']]\n",
    "\n",
    "#Testing patient family diabetes vs cancelled membership\n",
    "df_hc_can_mem = pd.merge(df_hc_AHFDM, df_cancel_mem, left_on='IdPaciente',right_on='IdPaciente', how=\"right\")\n",
    "\n",
    "print(\"Testing patient family diabetes vs Cancelled Membership\")\n",
    "print(df_hc_can_mem .groupby(['AHFDM', 'value'])['value'].count().sort_values())"
   ]
  },
  {
   "cell_type": "markdown",
   "metadata": {},
   "source": [
    "#### *Observations: No significance differences*"
   ]
  }
 ],
 "metadata": {
  "kernelspec": {
   "display_name": "Python 3",
   "language": "python",
   "name": "python3"
  },
  "language_info": {
   "codemirror_mode": {
    "name": "ipython",
    "version": 3
   },
   "file_extension": ".py",
   "mimetype": "text/x-python",
   "name": "python",
   "nbconvert_exporter": "python",
   "pygments_lexer": "ipython3",
   "version": "3.8.8"
  }
 },
 "nbformat": 4,
 "nbformat_minor": 4
}
