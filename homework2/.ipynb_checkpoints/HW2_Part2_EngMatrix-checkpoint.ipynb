{
 "cells": [
  {
   "cell_type": "markdown",
   "id": "91b98762",
   "metadata": {},
   "source": [
    "**Team 1 :**\n",
    "   * Shobhit Aggarwal (shobhita)\n",
    "   * Ho Kit Fu (hoikitf)\n",
    "   * Shiyuan Li (shiyuan2)"
   ]
  },
  {
   "cell_type": "markdown",
   "id": "83d3fa43",
   "metadata": {},
   "source": [
    "### Import all engagement outcome csv files and translate headers using hw1 data dictionary"
   ]
  },
  {
   "cell_type": "code",
   "execution_count": 15,
   "id": "0316a401",
   "metadata": {},
   "outputs": [
    {
     "name": "stdout",
     "output_type": "stream",
     "text": [
      "         AllServiceAppointment: (3649, 10)\n",
      " Index(['Id Primary key', 'Patient ID', 'Branch id', 'Creation User',\n",
      "       'Create Date', 'clinic´s attention : time (in)',\n",
      "       'clinic's attention : time (out)', 'Available areas ',\n",
      "       'clinic's attention : Boolean value 1=Closed (if the record has time in and out values)',\n",
      "       'Duration'],\n",
      "      dtype='object')\n",
      "\n",
      "            CancelsAppointment: (5795, 9)\n",
      " Index(['Patient ID', 'Areas ', 'Appointment Date', 'Appointment Time',\n",
      "       'Date Added', 'Reason', 'Branch id', 'Cancelled ID',\n",
      "       'Cancellation Date'],\n",
      "      dtype='object')\n",
      "\n",
      "       Reschedules Appointment: (597, 15)\n",
      " Index(['Patient ID', 'Areas', 'New Date', 'New Time', 'Rescheduled Branch id',\n",
      "       'New Reason', 'Old Date', 'Old Time', 'Original Create Date',\n",
      "       'Old Reason', 'Old Branch id', 'Reschedule Date', 'New Agenda ID',\n",
      "       'Old Agenda ID', 'Cancelled Appointments ID'],\n",
      "      dtype='object')\n",
      "\n",
      "      SingleServiceAppointment: (205942, 10)\n",
      " Index(['Id Primary key', 'Patient ID', 'Branch id', 'Creation User',\n",
      "       'Create Date', 'clinic´s attention : time (in)',\n",
      "       'clinic's attention : time (out)', 'Available areas ',\n",
      "       'clinic's attention : Boolean value 1=Closed (if the record has time in and out values)',\n",
      "       'Duration'],\n",
      "      dtype='object')\n",
      "\n",
      "              SkipsAppointment: (453, 9)\n",
      " Index(['Patient ID', 'Areas ', 'Appointment Date', 'Appointment Time',\n",
      "       'Date Added', 'Reason', 'Branch id', 'Cancelled ID',\n",
      "       'Cancellation Date'],\n",
      "      dtype='object')\n",
      "\n",
      "    all_service_buys_something: (18543, 3)\n",
      " Index(['Patient ID', 'Create Date', 'value'], dtype='object')\n",
      "\n",
      "              Buys_from_Clinic: (77155, 7)\n",
      " Index(['Patient ID', 'Year', 'Month', 'AbonoMembresiaInscripcion',\n",
      "       'CompraFarmacia', 'CompraTienda', 'Flag_Buy_from_Clinic'],\n",
      "      dtype='object')\n",
      "\n",
      "            cancels_membership: (43551, 3)\n",
      " Index(['Patient ID', 'Create Date', 'value'], dtype='object')\n",
      "\n",
      "                     complains: (19, 7)\n",
      " Index(['Patient ID', 'calificaRecepcion', 'calificaCV', 'calificaNutricion',\n",
      "       'calificaMedico', 'calificaInstalacionClinica',\n",
      "       'calificaRecomendacion'],\n",
      "      dtype='object')\n",
      "\n",
      "             renews_membership: (43711, 3)\n",
      " Index(['Patient ID', 'Create Date', 'value'], dtype='object')\n",
      "\n",
      " single_service_buys_something: (21171, 3)\n",
      " Index(['Patient ID', 'Create Date', 'value'], dtype='object')\n",
      "\n"
     ]
    }
   ],
   "source": [
    "import pandas as pd\n",
    "import numpy as np\n",
    "import seaborn as sns\n",
    "import matplotlib.pyplot as plt\n",
    "\n",
    "# ALL FILE NAMES\n",
    "files = ['AllServiceAppointment', 'CancelsAppointment', 'Reschedules Appointment',\n",
    "         'SingleServiceAppointment', 'SkipsAppointment', 'all_service_buys_something', 'Buys_from_Clinic', \n",
    "         'cancels_membership', 'complains', 'renews_membership', 'single_service_buys_something']\n",
    "\n",
    "# FILES THAT DON'T HAVE INDEX COLUMN \n",
    "files_noindex = ['AllServiceAppointment', 'CancelsAppointment', 'Reschedules Appointment',\n",
    "                 'SingleServiceAppointment', 'SkipsAppointment']\n",
    "\n",
    "# FILES THAT HAVE INDEX COLUMN TO IGNORE WHILE IMPORTING\n",
    "files_index = ['all_service_buys_something', 'Buys_from_Clinic', 'cancels_membership', 'complains', \n",
    "               'renews_membership', 'single_service_buys_something']\n",
    "\n",
    "#~~~~~~~~~~~~~~~\n",
    "#IMPORTING FILES\n",
    "#~~~~~~~~~~~~~~~\n",
    "outcomes_dir = []\n",
    "list_columns = []\n",
    "\n",
    "for i in range(len(files_noindex)):\n",
    "    outcomes_dir.append(pd.read_csv(f'./engagement_outcome/{files_noindex[i]}.csv'))\n",
    "    \n",
    "for i in range(len(files_index)):\n",
    "    outcomes_dir.append(pd.read_csv(f'./engagement_outcome/{files_index[i]}.csv', index_col=0))\n",
    "    \n",
    "#~~~~~~~~~~~~~~~~~~~~~~~~~~~~~~~~~~~~~~~~~~~~~\n",
    "#TRANSLATING HEADERS USING HW1 DATA DICTIONARY\n",
    "#~~~~~~~~~~~~~~~~~~~~~~~~~~~~~~~~~~~~~~~~~~~~~\n",
    "for i in range(len(outcomes_dir)):\n",
    "    list_columns.append(outcomes_dir[i].columns)\n",
    "    \n",
    "#READING COLUMN HEADER DICTIONARY SPANISH TO ENGLISH\n",
    "translate_dict = pd.read_excel('./../homework1/DataDictionary.xlsx')\n",
    "translate_dict.head(3)\n",
    "dict_dictionary = dict(zip(translate_dict['Field'], translate_dict['Description']))\n",
    "\n",
    "#TRANSLATING HEADERS\n",
    "list_columns_t = []\n",
    "for i in range(len(list_columns)):\n",
    "    columns_t = []\n",
    "    for j in range(len(list_columns[i])):\n",
    "        if list_columns[i][j] in dict_dictionary.keys():\n",
    "            columns_t.append(dict_dictionary.get(list_columns[i][j]))\n",
    "        else:\n",
    "            columns_t.append(list_columns[i][j])\n",
    "    list_columns_t.append(columns_t)\n",
    "    \n",
    "#APPLYING NEW HEADER NAMES\n",
    "for i in range(len(outcomes_dir)):\n",
    "    outcomes_dir[i].columns = list_columns_t[i]\n",
    "    print(f'{files[i]:>30}: {outcomes_dir[i].shape}\\n {outcomes_dir[i].columns}\\n')"
   ]
  },
  {
   "cell_type": "code",
   "execution_count": 79,
   "id": "31f4e796",
   "metadata": {},
   "outputs": [
    {
     "name": "stdout",
     "output_type": "stream",
     "text": [
      "10 19\n"
     ]
    }
   ],
   "source": [
    "#extracting date for each complain in outcome csv\n",
    "#~~~~~~~~~~~~~~~~~~~~~~~~~~~~~~~~~~~~~~~~~~~~~~~~~~~~~~~~~~~~~~\n",
    "# data_xl = pd.ExcelFile('./III Datos CMU (ENC).xlsx')\n",
    "# complains = data_xl.parse('encuestas_servicios')\n",
    "\n",
    "# complains = complains[['IdEncuestaServicio','IdPaciente','Fecha']]\n",
    "# complains_out = pd.read_csv(f'./engagement_outcome/complains.csv')\n",
    "\n",
    "# complains_out.rename(columns = {list(complains_out)[0]:f'index'}, inplace=True)\n",
    "# complains_out['date'] = (complains.iloc[complains_out.iloc[:,0],2]).values\n",
    "\n",
    "# a = complains_out.loc[:,'date'].dt.date\n",
    "# print(i, len(a));\n",
    "# for j in range(len(a)):\n",
    "#     a.iloc[j] = a.iloc[j].replace(day = 1)\n",
    "# complains_out.loc[:,'date'] = a\n",
    "\n",
    "# complains_out = complains_out[['IdPaciente', 'date']]\n",
    "# complains_out.to_csv('complains_revise.csv')"
   ]
  },
  {
   "cell_type": "code",
   "execution_count": 2,
   "id": "5081c61e",
   "metadata": {},
   "outputs": [],
   "source": [
    "outcomes_dir[0] = outcomes_dir[0][['Patient ID', 'Create Date']]                           #'AllServiceAppointment'\n",
    "outcomes_dir[1] = outcomes_dir[1][['Patient ID', 'Cancellation Date']]                     #'CancelsAppointment'\n",
    "outcomes_dir[2] = outcomes_dir[2][['Patient ID', 'Reschedule Date']]                       #'Reschedules Appointment'\n",
    "outcomes_dir[3] = outcomes_dir[3][['Patient ID', 'Create Date']]                           #'SingleServiceAppointment'\n",
    "outcomes_dir[4] = outcomes_dir[4][['Patient ID', 'Appointment Date']]                      #'SkipsAppointment'\n",
    "outcomes_dir[5] = outcomes_dir[5].loc[outcomes_dir[5].value==1,\n",
    "                                      ['Patient ID', 'Create Date']]                       #'all_service_buys_something'\n",
    "outcomes_dir[6] = outcomes_dir[6][['Patient ID', 'Month', 'Year']]                         #'Buys_from_Clinic'\n",
    "outcomes_dir[7] = outcomes_dir[7].loc[outcomes_dir[7].value==1,\n",
    "                                      ['Patient ID', 'Create Date']]                       #'cancels_membership'\n",
    "outcomes_dir[8] = outcomes_dir[8][['Patient ID']]                                          #'complains'\n",
    "outcomes_dir[9] = outcomes_dir[9].loc[outcomes_dir[9].value==1,\n",
    "                                      ['Patient ID', 'Create Date']]                       #'renews_membership'\n",
    "outcomes_dir[10] = outcomes_dir[10].loc[outcomes_dir[10].value==1,\n",
    "                                        ['Patient ID', 'Create Date']]                     #'single_service_buys_something'"
   ]
  },
  {
   "cell_type": "code",
   "execution_count": 3,
   "id": "6707c6e7",
   "metadata": {},
   "outputs": [
    {
     "name": "stdout",
     "output_type": "stream",
     "text": [
      "Patient ID      int64\n",
      "Create Date    object\n",
      "dtype: object\n",
      "\n",
      "Patient ID           float64\n",
      "Cancellation Date     object\n",
      "dtype: object\n",
      "\n",
      "Patient ID         float64\n",
      "Reschedule Date     object\n",
      "dtype: object\n",
      "\n",
      "Patient ID      int64\n",
      "Create Date    object\n",
      "dtype: object\n",
      "\n",
      "Patient ID          float64\n",
      "Appointment Date     object\n",
      "dtype: object\n",
      "\n",
      "Patient ID      int64\n",
      "Create Date    object\n",
      "dtype: object\n",
      "\n",
      "Patient ID    int64\n",
      "Month         int64\n",
      "Year          int64\n",
      "dtype: object\n",
      "\n",
      "Patient ID      int64\n",
      "Create Date    object\n",
      "dtype: object\n",
      "\n",
      "Patient ID    int64\n",
      "dtype: object\n",
      "\n",
      "Patient ID      int64\n",
      "Create Date    object\n",
      "dtype: object\n",
      "\n",
      "Patient ID      int64\n",
      "Create Date    object\n",
      "dtype: object\n",
      "\n"
     ]
    }
   ],
   "source": [
    "for i in range(len(outcomes_dir)):\n",
    "        print(f'{outcomes_dir[i].dtypes}\\n')"
   ]
  },
  {
   "cell_type": "markdown",
   "id": "63633bce",
   "metadata": {},
   "source": [
    "#### Initial order of datasets\n",
    "0. 'AllServiceAppointment'\n",
    "1. 'CancelsAppointment'\n",
    "2. 'Reschedules Appointment'\n",
    "3. 'SingleServiceAppointment'\n",
    "4. 'SkipsAppointment'\n",
    "5. 'all_service_buys_something'\n",
    "6. 'Buys_from_Clinic'\n",
    "7. 'cancels_membership'\n",
    "8. 'complains'\n",
    "9. 'renews_membership'\n",
    "10. 'single_service_buys_something'\n",
    "\n",
    "#### Ranked order:\n",
    "1. Cancels Membership\n",
    "2. No Engagement (absence of any records for the patient during the time period)\n",
    "3. Skips Appointment\n",
    "4. Cancels Appointment\n",
    "5. Complains\n",
    "6. Reschedules Appointment\n",
    "7. Buys from Clinic\n",
    "8. Attends Single-Service Appointment\n",
    "9. Attends Single-Service Appointment and Buys from Clinic\n",
    "10. Attends All-Service Appointment\n",
    "11. Attends All-Service Appointment and Buys from Clinic\n",
    "12. Buys or Renews Membership"
   ]
  },
  {
   "cell_type": "code",
   "execution_count": 4,
   "id": "e44f4a31",
   "metadata": {},
   "outputs": [
    {
     "name": "stdout",
     "output_type": "stream",
     "text": [
      "12\n"
     ]
    }
   ],
   "source": [
    "engagement_dir = []\n",
    "\n",
    "engagement_dir.append(outcomes_dir[7])\n",
    "engagement_dir.append([])\n",
    "engagement_dir.append(outcomes_dir[4])\n",
    "engagement_dir.append(outcomes_dir[1])\n",
    "engagement_dir.append(outcomes_dir[8])\n",
    "engagement_dir.append(outcomes_dir[2])\n",
    "engagement_dir.append(outcomes_dir[6])\n",
    "engagement_dir.append(outcomes_dir[3])\n",
    "engagement_dir.append(outcomes_dir[10])\n",
    "engagement_dir.append(outcomes_dir[0])\n",
    "engagement_dir.append(outcomes_dir[5])\n",
    "engagement_dir.append(outcomes_dir[9])\n",
    "\n",
    "print(len(engagement_dir))"
   ]
  },
  {
   "cell_type": "code",
   "execution_count": 5,
   "id": "fe41bc81",
   "metadata": {},
   "outputs": [
    {
     "name": "stdout",
     "output_type": "stream",
     "text": [
      "(5795, 2)\n",
      "<class 'pandas.core.frame.DataFrame'>\n",
      "RangeIndex: 5795 entries, 0 to 5794\n",
      "Data columns (total 2 columns):\n",
      " #   Column             Non-Null Count  Dtype  \n",
      "---  ------             --------------  -----  \n",
      " 0   Patient ID         5783 non-null   float64\n",
      " 1   Cancellation Date  5795 non-null   object \n",
      "dtypes: float64(1), object(1)\n",
      "memory usage: 90.7+ KB\n",
      "None\n",
      "(5783, 2)\n"
     ]
    }
   ],
   "source": [
    "print(engagement_dir[3].shape)\n",
    "print(engagement_dir[3].info())\n",
    "\n",
    "engagement_dir[3] = engagement_dir[3][~pd.isna(engagement_dir[3]['Patient ID'])]\n",
    "\n",
    "print(engagement_dir[3].shape)"
   ]
  },
  {
   "cell_type": "code",
   "execution_count": 6,
   "id": "a92bfd6b",
   "metadata": {},
   "outputs": [
    {
     "name": "stderr",
     "output_type": "stream",
     "text": [
      "C:\\Users\\shobh\\anaconda3\\lib\\site-packages\\pandas\\core\\indexing.py:1676: SettingWithCopyWarning: \n",
      "A value is trying to be set on a copy of a slice from a DataFrame.\n",
      "Try using .loc[row_indexer,col_indexer] = value instead\n",
      "\n",
      "See the caveats in the documentation: https://pandas.pydata.org/pandas-docs/stable/user_guide/indexing.html#returning-a-view-versus-a-copy\n",
      "  self._setitem_single_column(ilocs[0], value, pi)\n",
      "C:\\Users\\shobh\\anaconda3\\lib\\site-packages\\pandas\\core\\indexing.py:1597: SettingWithCopyWarning: \n",
      "A value is trying to be set on a copy of a slice from a DataFrame.\n",
      "Try using .loc[row_indexer,col_indexer] = value instead\n",
      "\n",
      "See the caveats in the documentation: https://pandas.pydata.org/pandas-docs/stable/user_guide/indexing.html#returning-a-view-versus-a-copy\n",
      "  self.obj[key] = value\n",
      "C:\\Users\\shobh\\anaconda3\\lib\\site-packages\\pandas\\core\\indexing.py:1720: SettingWithCopyWarning: \n",
      "A value is trying to be set on a copy of a slice from a DataFrame.\n",
      "Try using .loc[row_indexer,col_indexer] = value instead\n",
      "\n",
      "See the caveats in the documentation: https://pandas.pydata.org/pandas-docs/stable/user_guide/indexing.html#returning-a-view-versus-a-copy\n",
      "  self._setitem_single_column(loc, value, pi)\n"
     ]
    },
    {
     "name": "stdout",
     "output_type": "stream",
     "text": [
      "0: Patient ID             int64\n",
      "date          datetime64[ns]\n",
      "value                  int64\n",
      "dtype: object\n",
      "\n",
      "2: Patient ID             int64\n",
      "date          datetime64[ns]\n",
      "value                  int64\n",
      "dtype: object\n",
      "\n",
      "3: Patient ID             int64\n",
      "date          datetime64[ns]\n",
      "value                  int64\n",
      "dtype: object\n",
      "\n",
      "4: Patient ID    int64\n",
      "date          int64\n",
      "dtype: object\n",
      "\n",
      "5: Patient ID             int64\n",
      "date          datetime64[ns]\n",
      "value                  int64\n",
      "dtype: object\n",
      "\n",
      "6: Patient ID             int64\n",
      "date          datetime64[ns]\n",
      "value                  int64\n",
      "dtype: object\n",
      "\n",
      "7: Patient ID             int64\n",
      "date          datetime64[ns]\n",
      "value                  int64\n",
      "dtype: object\n",
      "\n",
      "8: Patient ID             int64\n",
      "date          datetime64[ns]\n",
      "value                  int64\n",
      "dtype: object\n",
      "\n",
      "9: Patient ID             int64\n",
      "date          datetime64[ns]\n",
      "value                  int64\n",
      "dtype: object\n",
      "\n",
      "10: Patient ID             int64\n",
      "date          datetime64[ns]\n",
      "value                  int64\n",
      "dtype: object\n",
      "\n",
      "11: Patient ID             int64\n",
      "date          datetime64[ns]\n",
      "value                  int64\n",
      "dtype: object\n",
      "\n"
     ]
    },
    {
     "name": "stderr",
     "output_type": "stream",
     "text": [
      "C:\\Users\\shobh\\anaconda3\\lib\\site-packages\\pandas\\core\\frame.py:4441: SettingWithCopyWarning: \n",
      "A value is trying to be set on a copy of a slice from a DataFrame\n",
      "\n",
      "See the caveats in the documentation: https://pandas.pydata.org/pandas-docs/stable/user_guide/indexing.html#returning-a-view-versus-a-copy\n",
      "  return super().rename(\n"
     ]
    }
   ],
   "source": [
    "for i in range(len(engagement_dir)):\n",
    "    try:\n",
    "        if((engagement_dir[i].iloc[:,0]).dtype != 'int64'):\n",
    "            engagement_dir[i].iloc[:,0] = engagement_dir[i].iloc[:,0].astype(np.int64)\n",
    "        if((engagement_dir[i].iloc[:,1]).dtype != 'int64'):\n",
    "            engagement_dir[i].iloc[:,1] = engagement_dir[i].iloc[:,1].astype('datetime64')\n",
    "    except:\n",
    "        continue\n",
    "\n",
    "df = (engagement_dir[6][['Year','Month']].copy())\n",
    "df.loc[:,'day'] = 1\n",
    "df = pd.to_datetime(df)\n",
    "engagement_dir[6].loc[:,'Create Date'] = df;\n",
    "engagement_dir[6] = engagement_dir[6].drop({'Year','Month'},1)\n",
    "\n",
    "for i in range(len(engagement_dir)):\n",
    "    try:\n",
    "        engagement_dir[i].loc[:,'value'] = i+1\n",
    "        engagement_dir[i].rename(columns = {list(engagement_dir[i])[1]:f'date'}, inplace=True)\n",
    "        print(f'{i}: {engagement_dir[i].dtypes}\\n')\n",
    "    except:\n",
    "        continue;\n",
    "\n",
    "engagement_dir[4].rename(columns={'date':'value'},inplace=True) #complains data doesn't have date yet\n",
    "#above line to be removed when complains data get date\n",
    "del(outcomes_dir)"
   ]
  },
  {
   "cell_type": "code",
   "execution_count": 7,
   "id": "8b94df34",
   "metadata": {},
   "outputs": [
    {
     "name": "stdout",
     "output_type": "stream",
     "text": [
      "0 37146\n"
     ]
    },
    {
     "name": "stderr",
     "output_type": "stream",
     "text": [
      "C:\\Users\\shobh\\anaconda3\\lib\\site-packages\\pandas\\core\\indexing.py:1637: SettingWithCopyWarning: modifications to a property of a datetimelike object are not supported and are discarded. Change values on the original.\n",
      "  self._setitem_single_block(indexer, value, name)\n",
      "C:\\Users\\shobh\\anaconda3\\lib\\site-packages\\pandas\\core\\indexing.py:692: SettingWithCopyWarning: modifications to a property of a datetimelike object are not supported and are discarded. Change values on the original.\n",
      "  iloc._setitem_with_indexer(indexer, value, self.name)\n"
     ]
    },
    {
     "name": "stdout",
     "output_type": "stream",
     "text": [
      "1 returned error\n",
      "2 453\n",
      "3 5783\n",
      "4 returned error\n",
      "5 597\n",
      "6 77155\n",
      "7 205942\n",
      "8 10536\n",
      "9 3649\n",
      "10 8987\n",
      "11 39991\n"
     ]
    }
   ],
   "source": [
    "for i in range(len(engagement_dir)):\n",
    "    try:\n",
    "        a = engagement_dir[i].loc[:,'date'].dt.date\n",
    "        print(i, len(a));\n",
    "        for j in range(len(a)):\n",
    "            a.iloc[j] = a.iloc[j].replace(day = 1)\n",
    "        engagement_dir[i].loc[:,'date'] = a\n",
    "        del a\n",
    "    except:\n",
    "        print(f'{i} returned error')\n",
    "        continue"
   ]
  },
  {
   "cell_type": "code",
   "execution_count": 8,
   "id": "8da1b567",
   "metadata": {},
   "outputs": [
    {
     "name": "stdout",
     "output_type": "stream",
     "text": [
      "1 step returned error\n",
      "2 step completed\n",
      "3 step completed\n",
      "4 step completed\n",
      "5 step completed\n",
      "6 step completed\n",
      "7 step completed\n",
      "8 step completed\n",
      "9 step completed\n",
      "10 step completed\n",
      "11 step completed\n",
      "12868 \t 15068 \t 0\n"
     ]
    }
   ],
   "source": [
    "patientid = engagement_dir[0][['Patient ID']].to_numpy()\n",
    "\n",
    "for i in range(1,len(engagement_dir)):\n",
    "    try:\n",
    "        patientid = np.append(patientid,(engagement_dir[i].loc[:,'Patient ID']).to_numpy())\n",
    "        print(f'{i} step completed')\n",
    "    except:\n",
    "        print(f'{i} step returned error')\n",
    "        continue\n",
    "        \n",
    "patientid = np.unique(patientid)\n",
    "print(len(patientid), '\\t', np.amax(patientid), '\\t', np.amin(patientid))"
   ]
  },
  {
   "cell_type": "code",
   "execution_count": 9,
   "id": "406f5bcd",
   "metadata": {},
   "outputs": [
    {
     "name": "stdout",
     "output_type": "stream",
     "text": [
      "43\n",
      "2016-12-01\n",
      "2013-06-01\n"
     ]
    }
   ],
   "source": [
    "mmyy = pd.DataFrame(engagement_dir[0]['date'])\n",
    "\n",
    "for i in range(1,len(engagement_dir)):\n",
    "    try:\n",
    "        mmyy_t = pd.DataFrame(engagement_dir[i]['date'])\n",
    "        mmyy = mmyy.append(mmyy_t, ignore_index=True)\n",
    "    except:\n",
    "        continue;\n",
    "\n",
    "mmyy = pd.DataFrame(mmyy.date.unique(), columns = {'date'})\n",
    "mmyy = mmyy[~pd.isna(mmyy.date)]\n",
    "mmyy = mmyy.sort_values(by='date', ignore_index=True)\n",
    "\n",
    "print(len(mmyy.date))\n",
    "print(mmyy.date.max())\n",
    "print(mmyy.date.min())"
   ]
  },
  {
   "cell_type": "code",
   "execution_count": 10,
   "id": "5d3eb2ad",
   "metadata": {},
   "outputs": [
    {
     "name": "stdout",
     "output_type": "stream",
     "text": [
      "553324\n",
      "43\n",
      "12868\n"
     ]
    }
   ],
   "source": [
    "matrix = [(i,j)\n",
    "         for i in patientid\n",
    "         for j in mmyy.date]\n",
    "print(len(matrix))\n",
    "print(len(mmyy))\n",
    "print(len(patientid))"
   ]
  },
  {
   "cell_type": "code",
   "execution_count": 26,
   "id": "fabfddbc",
   "metadata": {},
   "outputs": [],
   "source": [
    "matrix = np.array([(i,j)\n",
    "         for i in patientid\n",
    "         for j in mmyy.date])\n",
    "value = np.zeros((len(matrix),1))\n",
    "\n",
    "matrix = np.hstack((matrix,value))"
   ]
  },
  {
   "cell_type": "code",
   "execution_count": null,
   "id": "7b9458e9",
   "metadata": {},
   "outputs": [],
   "source": [
    "for i in range(len(matrix)):\n",
    "    value_array = np.zeros(12, dtype=np.int64)\n",
    "    for k in [0,2,3,5,6,7,8,9,10,11]:\n",
    "        a = engagement_dir[k][(engagement_dir[k]['Patient ID']==matrix[i,0]) \n",
    "                              & (engagement_dir[k]['date']==matrix[i,1])].value\n",
    "        if(len(a)>0):\n",
    "            value_array[k] = a.values[0]\n",
    "    print(i,end='|')\n",
    "    matrix[i,2] = np.amax(value_array)"
   ]
  },
  {
   "cell_type": "code",
   "execution_count": null,
   "id": "05ab9217",
   "metadata": {},
   "outputs": [],
   "source": [
    "# ADDING COMPLAINS DATA TO THE MATRIX\n",
    "\n",
    "complains = pd.read_csv('complains_revise.csv',index_col = 0)\n",
    "complains['value'] = 5\n",
    "\n",
    "for i in range(len(matrix)):\n",
    "    value = 0\n",
    "    a = complains[(complains['IdPaciente']==matrix.iloc[i,0]) \n",
    "                          & (complains['date']==matrix.iloc[i,1])].value\n",
    "    if(len(a)>0):\n",
    "        value = a.values[0]\n",
    "    if(value > matrix.iloc[i,2]):\n",
    "        matrix.iloc[i,2] = value\n",
    "    print(i,end='|')\n",
    "\n",
    "matrix.loc[matrix.eng==5,:]"
   ]
  }
 ],
 "metadata": {
  "kernelspec": {
   "display_name": "Python 3",
   "language": "python",
   "name": "python3"
  },
  "language_info": {
   "codemirror_mode": {
    "name": "ipython",
    "version": 3
   },
   "file_extension": ".py",
   "mimetype": "text/x-python",
   "name": "python",
   "nbconvert_exporter": "python",
   "pygments_lexer": "ipython3",
   "version": "3.8.8"
  }
 },
 "nbformat": 4,
 "nbformat_minor": 5
}
