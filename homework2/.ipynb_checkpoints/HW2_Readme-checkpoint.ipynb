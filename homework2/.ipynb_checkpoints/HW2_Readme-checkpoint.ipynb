{
 "cells": [
  {
   "cell_type": "markdown",
   "id": "dc284d7d",
   "metadata": {},
   "source": [
    "# HW #2: Modeling Patient Engagement"
   ]
  },
  {
   "cell_type": "markdown",
   "id": "79389552",
   "metadata": {},
   "source": [
    "**Team 1 :**\n",
    "   \n",
    "   * Shobhit Aggarwal (shobhita)\n",
    "   \n",
    "   * Ho Kit Fu (hoikitf)\n",
    "   \n",
    "   * Shiyuan Li (shiyuan2)"
   ]
  },
  {
   "cell_type": "markdown",
   "id": "37667219",
   "metadata": {},
   "source": [
    "## Hypothesis Testing\n",
    "\n",
    "Testing hypothesis from Group 2\n",
    "\n",
    "\n",
    "**Jupyter Notebooks Submitted :** \n",
    "\n",
    "* **HW2_Part1_Hypothesis.ipynb**"
   ]
  },
  {
   "cell_type": "markdown",
   "id": "1f655362",
   "metadata": {},
   "source": [
    "## Clustering\n",
    "\n",
    "Cluster patients by similar sequences of engagement using k-medoids.\n",
    "\n",
    "Use k = 3, time period as month, and the engagement level as highest level of engagement in the month (this was the method implemented by Deloitte in 2018)\n",
    "\n",
    "\n",
    "**Jupyter Notebooks Submitted :**\n",
    "\n",
    "* **HW2_Part2_EngMatrix.ipynb** - Preparing data matrix for clustering\n",
    "\n",
    "* **HW2_Part2_Clustering.ipynb** - Use K-Medoids to cluster in three groups. Contains Silhoutte score and cluster visualisation"
   ]
  },
  {
   "cell_type": "markdown",
   "id": "c0267271",
   "metadata": {},
   "source": [
    "## Predictive Modelling\n",
    "\n",
    "Develop two models that use predictor variables for a patient in one time period to predict the engagement level the patient will fall into the next time period.\n",
    "\n",
    "Group1: Based on the predictive variables in month i, predict the highest level of engagement in the time period in month i+1\n",
    "\n",
    "\n",
    "**Jupyter Notebooks Submitted :** \n",
    "\n",
    "* **HW2_Part3_Predicting.ipynb** - Contains random forest model and logistic regression model for predicting the values\n",
    "\n",
    "\n",
    "**Note** : We see that for the first a few months, the prediction is pretty accurate. This might due to the reason that we don't have the data for every month of a patient. And the date of the data is almost the early months."
   ]
  }
 ],
 "metadata": {
  "kernelspec": {
   "display_name": "Python 3",
   "language": "python",
   "name": "python3"
  },
  "language_info": {
   "codemirror_mode": {
    "name": "ipython",
    "version": 3
   },
   "file_extension": ".py",
   "mimetype": "text/x-python",
   "name": "python",
   "nbconvert_exporter": "python",
   "pygments_lexer": "ipython3",
   "version": "3.8.8"
  }
 },
 "nbformat": 4,
 "nbformat_minor": 5
}
