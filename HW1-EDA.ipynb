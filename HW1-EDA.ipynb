{
 "cells": [
  {
   "cell_type": "code",
   "execution_count": 3,
   "metadata": {},
   "outputs": [],
   "source": [
    "import numpy as np # linear algebra\n",
    "import pandas as pd # data processing, Excel file I/O (e.g. pd.read_excel)\n",
    "import matplotlib.pyplot as plt\n",
    "%matplotlib inline\n"
   ]
  },
  {
   "cell_type": "code",
   "execution_count": 86,
   "metadata": {},
   "outputs": [],
   "source": [
    "xls = pd.ExcelFile('./Balance1.xlsx')\n",
    "df_paquetes = pd.read_excel(xls, 'paquetes')\n",
    "df_periodosrecetas = pd.read_excel(xls, 'periodosrecetas')\n",
    "df_pr_razones = pd.read_excel(xls, 'pr_razones')\n",
    "df_prospectos = pd.read_excel(xls, 'prospectos')\n",
    "\n"
   ]
  },
  {
   "cell_type": "code",
   "execution_count": 88,
   "metadata": {},
   "outputs": [],
   "source": [
    "df_dictionary = pd.read_excel('./DataDictionary.xlsx','Aggre')\n",
    "df_paquetes_columns = df_paquetes.columns\n",
    "df_periodosrecetas_columns = df_periodosrecetas.columns\n",
    "df_pr_razones_columns = df_pr_razones.columns\n",
    "df_prospectos_columns =  df_prospectos.columns\n",
    "dict_dictionary = dict(zip(df_dictionary['Field'], df_dictionary['Description']))"
   ]
  },
  {
   "cell_type": "code",
   "execution_count": 89,
   "metadata": {},
   "outputs": [],
   "source": [
    "df_paquetes_list = []\n",
    "df_periodosrecetas_list = []\n",
    "df_pr_razones_list = []\n",
    "df_prospectos_list = []\n",
    "\n",
    "for i in range(len(df_paquetes_columns)):\n",
    "    if df_paquetes_columns[i] in dict_dictionary.keys():\n",
    "                    df_paquetes_list.append(dict_dictionary.get(df_paquetes_columns[i]))\n",
    "    else:\n",
    "        df_paquetes_list.append(df_paquetes_columns[i])\n",
    "\n",
    "for i in range(len(df_periodosrecetas_columns)):\n",
    "    if df_periodosrecetas_columns[i] in dict_dictionary.keys():\n",
    "                    df_periodosrecetas_list.append(dict_dictionary.get(df_periodosrecetas_columns[i]))\n",
    "    else:\n",
    "        df_periodosrecetas_list.append(df_periodosrecetas_columns[i])\n",
    "            \n",
    "for i in range(len(df_pr_razones_columns)):\n",
    "    if df_pr_razones_columns[i] in dict_dictionary.keys():\n",
    "                    df_pr_razones_list.append(dict_dictionary.get(df_pr_razones_columns[i]))\n",
    "    else:\n",
    "        df_pr_razones_list.append(df_pr_razones_columns[i])\n",
    "            \n",
    "for i in range(len(df_prospectos_columns)):\n",
    "    if df_prospectos_columns[i] in dict_dictionary.keys():\n",
    "                    df_prospectos_list.append(dict_dictionary.get(df_prospectos_columns[i]))\n",
    "    else:\n",
    "        df_prospectos_list.append(df_prospectos_columns[i])\n",
    "        \n",
    "df_paquetes.columns = df_paquetes_list\n",
    "df_periodosrecetas.columns = df_periodosrecetas_list\n",
    "df_pr_razones.columns = df_pr_razones_list \n",
    "df_prospectos.columns = df_prospectos_list"
   ]
  },
  {
   "cell_type": "code",
   "execution_count": 90,
   "metadata": {},
   "outputs": [
    {
     "name": "stdout",
     "output_type": "stream",
     "text": [
      "(11, 6)\n"
     ]
    },
    {
     "data": {
      "text/plain": [
       "Patient Membership package    0\n",
       "Descripcion                   0\n",
       "Order                         0\n",
       "ActivoVE                      0\n",
       "ActivoBAL                     0\n",
       "DescripcionVE                 2\n",
       "dtype: int64"
      ]
     },
     "execution_count": 90,
     "metadata": {},
     "output_type": "execute_result"
    }
   ],
   "source": [
    "print(df_paquetes.shape)\n",
    "df_paquetes.isnull().sum(axis = 0).sort_values()"
   ]
  },
  {
   "cell_type": "code",
   "execution_count": 91,
   "metadata": {},
   "outputs": [
    {
     "name": "stdout",
     "output_type": "stream",
     "text": [
      "(32, 2)\n"
     ]
    },
    {
     "data": {
      "text/plain": [
       "IdPeriodo      0\n",
       "Descripcion    0\n",
       "dtype: int64"
      ]
     },
     "execution_count": 91,
     "metadata": {},
     "output_type": "execute_result"
    }
   ],
   "source": [
    "print(df_periodosrecetas.shape)\n",
    "df_periodosrecetas.isnull().sum(axis = 0).sort_values()"
   ]
  },
  {
   "cell_type": "code",
   "execution_count": 92,
   "metadata": {},
   "outputs": [
    {
     "name": "stdout",
     "output_type": "stream",
     "text": [
      "(6, 2)\n"
     ]
    },
    {
     "data": {
      "text/plain": [
       "IdRazonPR      0\n",
       "Descripcion    0\n",
       "dtype: int64"
      ]
     },
     "execution_count": 92,
     "metadata": {},
     "output_type": "execute_result"
    }
   ],
   "source": [
    "print(df_pr_razones.shape)\n",
    "df_pr_razones.isnull().sum(axis = 0).sort_values()"
   ]
  },
  {
   "cell_type": "code",
   "execution_count": 93,
   "metadata": {
    "scrolled": true
   },
   "outputs": [
    {
     "name": "stdout",
     "output_type": "stream",
     "text": [
      "(45525, 25)\n"
     ]
    },
    {
     "data": {
      "text/plain": [
       "IdProspecto                                    0\n",
       "Branch id                                      0\n",
       "Create Date                                    0\n",
       "YearBirth                                     96\n",
       "Town                                         257\n",
       "State                                        260\n",
       "Create Time                                  282\n",
       "Marital status                               457\n",
       "Sex                                          736\n",
       "Username                                     816\n",
       "Interest                                     819\n",
       "glucose                                      819\n",
       "Patient ID                                   819\n",
       "Social Security                              879\n",
       "HowInteger                                  1081\n",
       "Ocupacion                                   1450\n",
       "Have diabetes                               5900\n",
       "Sales Advisor                               5951\n",
       "How long ago did you have diabetes         19496\n",
       "SpecifyAsInteger                           30495\n",
       "Expectation                                44954\n",
       "How long ago did you have hypertension?    45335\n",
       "Date Appointment                           45447\n",
       "Reason                                     45519\n",
       "Scholarship                                45525\n",
       "dtype: int64"
      ]
     },
     "execution_count": 93,
     "metadata": {},
     "output_type": "execute_result"
    }
   ],
   "source": [
    "print(df_prospectos.shape)\n",
    "df_prospectos.isnull().sum(axis = 0).sort_values()\n",
    "\n"
   ]
  },
  {
   "cell_type": "code",
   "execution_count": 94,
   "metadata": {},
   "outputs": [],
   "source": [
    "#We decide to delete columns with more than 50% of missing values.\n",
    "df_prospectos = df_prospectos.drop(columns=['Date Appointment'])\n",
    "df_prospectos = df_prospectos.drop(columns=['Scholarship'])\n",
    "df_prospectos = df_prospectos.drop(columns=['Reason'])\n",
    "df_prospectos = df_prospectos.drop(columns=['How long ago did you have hypertension?'])\n",
    "df_prospectos = df_prospectos.drop(columns=['Expectation'])\n",
    "df_prospectos = df_prospectos.drop(columns=['SpecifyAsInteger'])\n",
    "#focus on therapetuics and mental aspects of the disease.\n",
    "#careful of one diet, how the body reacts to the diet, medication, insoulin. A1C"
   ]
  },
  {
   "cell_type": "code",
   "execution_count": 96,
   "metadata": {},
   "outputs": [
    {
     "data": {
      "text/plain": [
       "(45525, 19)"
      ]
     },
     "execution_count": 96,
     "metadata": {},
     "output_type": "execute_result"
    }
   ],
   "source": [
    "#Shape after removing all the missing columns > 50%\n",
    "df_prospectos.shape"
   ]
  },
  {
   "cell_type": "code",
   "execution_count": 85,
   "metadata": {},
   "outputs": [
    {
     "data": {
      "text/html": [
       "<div>\n",
       "<style scoped>\n",
       "    .dataframe tbody tr th:only-of-type {\n",
       "        vertical-align: middle;\n",
       "    }\n",
       "\n",
       "    .dataframe tbody tr th {\n",
       "        vertical-align: top;\n",
       "    }\n",
       "\n",
       "    .dataframe thead th {\n",
       "        text-align: right;\n",
       "    }\n",
       "</style>\n",
       "<table border=\"1\" class=\"dataframe\">\n",
       "  <thead>\n",
       "    <tr style=\"text-align: right;\">\n",
       "      <th></th>\n",
       "      <th>IdProspecto</th>\n",
       "      <th>Town</th>\n",
       "      <th>State</th>\n",
       "      <th>YearBirth</th>\n",
       "      <th>Sex</th>\n",
       "      <th>Marital status</th>\n",
       "      <th>Ocupacion</th>\n",
       "      <th>Social Security</th>\n",
       "      <th>HaceCuantoTieneDiabetes</th>\n",
       "      <th>Create Date</th>\n",
       "      <th>Create Time</th>\n",
       "      <th>Username</th>\n",
       "      <th>Interest</th>\n",
       "      <th>HowInteger</th>\n",
       "      <th>glucose</th>\n",
       "      <th>Date Appointment</th>\n",
       "      <th>Patient ID</th>\n",
       "      <th>Branch id</th>\n",
       "      <th>Sales Advisor</th>\n",
       "      <th>Have diabetes</th>\n",
       "    </tr>\n",
       "  </thead>\n",
       "  <tbody>\n",
       "    <tr>\n",
       "      <th>0</th>\n",
       "      <td>4</td>\n",
       "      <td>NaN</td>\n",
       "      <td>NaN</td>\n",
       "      <td>NaN</td>\n",
       "      <td>NaN</td>\n",
       "      <td>NaN</td>\n",
       "      <td>NaN</td>\n",
       "      <td>NaN</td>\n",
       "      <td>NaN</td>\n",
       "      <td>2013-01-01</td>\n",
       "      <td>NaN</td>\n",
       "      <td>d41d8cd98f00b204e9800998ecf8427e</td>\n",
       "      <td>PLÁTICAS O EVENTOS</td>\n",
       "      <td>NaN</td>\n",
       "      <td>0.0</td>\n",
       "      <td>NaN</td>\n",
       "      <td>0.0</td>\n",
       "      <td>1</td>\n",
       "      <td>NaN</td>\n",
       "      <td>NaN</td>\n",
       "    </tr>\n",
       "    <tr>\n",
       "      <th>1</th>\n",
       "      <td>5</td>\n",
       "      <td>ESCOBEDO</td>\n",
       "      <td>NUEVO LEÓN</td>\n",
       "      <td>1960.0</td>\n",
       "      <td>M</td>\n",
       "      <td>NaN</td>\n",
       "      <td>NaN</td>\n",
       "      <td>NaN</td>\n",
       "      <td>2 AÑOS</td>\n",
       "      <td>2013-01-01</td>\n",
       "      <td>NaN</td>\n",
       "      <td>d41d8cd98f00b204e9800998ecf8427e</td>\n",
       "      <td>VALORACIÓN EXPRESS</td>\n",
       "      <td>C</td>\n",
       "      <td>371.0</td>\n",
       "      <td>NaN</td>\n",
       "      <td>0.0</td>\n",
       "      <td>1</td>\n",
       "      <td>NaN</td>\n",
       "      <td>1.0</td>\n",
       "    </tr>\n",
       "    <tr>\n",
       "      <th>2</th>\n",
       "      <td>6</td>\n",
       "      <td>NaN</td>\n",
       "      <td>NaN</td>\n",
       "      <td>NaN</td>\n",
       "      <td>H</td>\n",
       "      <td>NaN</td>\n",
       "      <td>NaN</td>\n",
       "      <td>NaN</td>\n",
       "      <td>NaN</td>\n",
       "      <td>2013-01-01</td>\n",
       "      <td>NaN</td>\n",
       "      <td>d41d8cd98f00b204e9800998ecf8427e</td>\n",
       "      <td>SÓLO INFORMES</td>\n",
       "      <td>NaN</td>\n",
       "      <td>0.0</td>\n",
       "      <td>NaN</td>\n",
       "      <td>0.0</td>\n",
       "      <td>1</td>\n",
       "      <td>NaN</td>\n",
       "      <td>NaN</td>\n",
       "    </tr>\n",
       "    <tr>\n",
       "      <th>3</th>\n",
       "      <td>7</td>\n",
       "      <td>NaN</td>\n",
       "      <td>NaN</td>\n",
       "      <td>NaN</td>\n",
       "      <td>NaN</td>\n",
       "      <td>NaN</td>\n",
       "      <td>NaN</td>\n",
       "      <td>NaN</td>\n",
       "      <td>NaN</td>\n",
       "      <td>2013-01-01</td>\n",
       "      <td>NaN</td>\n",
       "      <td>d41d8cd98f00b204e9800998ecf8427e</td>\n",
       "      <td>PAQUETE PARA FAMILIAR</td>\n",
       "      <td>NaN</td>\n",
       "      <td>0.0</td>\n",
       "      <td>NaN</td>\n",
       "      <td>0.0</td>\n",
       "      <td>1</td>\n",
       "      <td>NaN</td>\n",
       "      <td>NaN</td>\n",
       "    </tr>\n",
       "    <tr>\n",
       "      <th>4</th>\n",
       "      <td>8</td>\n",
       "      <td>GUADALUPE</td>\n",
       "      <td>NUEVO LEÓN</td>\n",
       "      <td>NaN</td>\n",
       "      <td>M</td>\n",
       "      <td>NaN</td>\n",
       "      <td>NaN</td>\n",
       "      <td>IMSS</td>\n",
       "      <td>10 AÑOS</td>\n",
       "      <td>2013-01-01</td>\n",
       "      <td>NaN</td>\n",
       "      <td>d41d8cd98f00b204e9800998ecf8427e</td>\n",
       "      <td>VALORACIÓN EXPRESS</td>\n",
       "      <td>C</td>\n",
       "      <td>224.0</td>\n",
       "      <td>NaN</td>\n",
       "      <td>0.0</td>\n",
       "      <td>1</td>\n",
       "      <td>NaN</td>\n",
       "      <td>NaN</td>\n",
       "    </tr>\n",
       "    <tr>\n",
       "      <th>...</th>\n",
       "      <td>...</td>\n",
       "      <td>...</td>\n",
       "      <td>...</td>\n",
       "      <td>...</td>\n",
       "      <td>...</td>\n",
       "      <td>...</td>\n",
       "      <td>...</td>\n",
       "      <td>...</td>\n",
       "      <td>...</td>\n",
       "      <td>...</td>\n",
       "      <td>...</td>\n",
       "      <td>...</td>\n",
       "      <td>...</td>\n",
       "      <td>...</td>\n",
       "      <td>...</td>\n",
       "      <td>...</td>\n",
       "      <td>...</td>\n",
       "      <td>...</td>\n",
       "      <td>...</td>\n",
       "      <td>...</td>\n",
       "    </tr>\n",
       "    <tr>\n",
       "      <th>45520</th>\n",
       "      <td>45783</td>\n",
       "      <td>GENERAL ESCOBEDO</td>\n",
       "      <td>NUEVO LEÓN</td>\n",
       "      <td>1973.0</td>\n",
       "      <td>H</td>\n",
       "      <td>MATRIMONIO</td>\n",
       "      <td>EMPLEADO</td>\n",
       "      <td>IMSS</td>\n",
       "      <td>1 AÑO</td>\n",
       "      <td>2016-12-30</td>\n",
       "      <td>16:49:34</td>\n",
       "      <td>d41d8cd98f00b204e9800998ecf8427e</td>\n",
       "      <td>VALORACIÓN EXPRESS</td>\n",
       "      <td>RECOMENDADO</td>\n",
       "      <td>0.0</td>\n",
       "      <td>NaN</td>\n",
       "      <td>0.0</td>\n",
       "      <td>3</td>\n",
       "      <td>d41d8cd98f00b204e9800998ecf8427e</td>\n",
       "      <td>1.0</td>\n",
       "    </tr>\n",
       "    <tr>\n",
       "      <th>45521</th>\n",
       "      <td>45784</td>\n",
       "      <td>MONTERREY</td>\n",
       "      <td>NUEVO LEÓN</td>\n",
       "      <td>1943.0</td>\n",
       "      <td>H</td>\n",
       "      <td>MATRIMONIO</td>\n",
       "      <td>PENSIONADO</td>\n",
       "      <td>IMSS</td>\n",
       "      <td>NaN</td>\n",
       "      <td>2016-12-30</td>\n",
       "      <td>16:54:18</td>\n",
       "      <td>d41d8cd98f00b204e9800998ecf8427e</td>\n",
       "      <td>VALORACIÓN EXPRESS</td>\n",
       "      <td>PASA POR AQUI</td>\n",
       "      <td>0.0</td>\n",
       "      <td>NaN</td>\n",
       "      <td>0.0</td>\n",
       "      <td>4</td>\n",
       "      <td>d41d8cd98f00b204e9800998ecf8427e</td>\n",
       "      <td>0.0</td>\n",
       "    </tr>\n",
       "    <tr>\n",
       "      <th>45522</th>\n",
       "      <td>45785</td>\n",
       "      <td>MONTERREY</td>\n",
       "      <td>NUEVO LEÓN</td>\n",
       "      <td>1969.0</td>\n",
       "      <td>H</td>\n",
       "      <td>DIVORCIO</td>\n",
       "      <td>EMPLEADO</td>\n",
       "      <td>IMSS</td>\n",
       "      <td>NaN</td>\n",
       "      <td>2016-12-30</td>\n",
       "      <td>17:06:30</td>\n",
       "      <td>d41d8cd98f00b204e9800998ecf8427e</td>\n",
       "      <td>VALORACIÓN EXPRESS</td>\n",
       "      <td>TELEVISION</td>\n",
       "      <td>0.0</td>\n",
       "      <td>NaN</td>\n",
       "      <td>0.0</td>\n",
       "      <td>1</td>\n",
       "      <td>d41d8cd98f00b204e9800998ecf8427e</td>\n",
       "      <td>0.0</td>\n",
       "    </tr>\n",
       "    <tr>\n",
       "      <th>45523</th>\n",
       "      <td>45786</td>\n",
       "      <td>GENERAL ESCOBEDO</td>\n",
       "      <td>NUEVO LEÓN</td>\n",
       "      <td>1966.0</td>\n",
       "      <td>M</td>\n",
       "      <td>MATRIMONIO</td>\n",
       "      <td>HOGAR</td>\n",
       "      <td>IMSS</td>\n",
       "      <td>2 AÑOS</td>\n",
       "      <td>2016-12-30</td>\n",
       "      <td>17:10:36</td>\n",
       "      <td>d41d8cd98f00b204e9800998ecf8427e</td>\n",
       "      <td>VALORACIÓN EXPRESS</td>\n",
       "      <td>PASA POR AQUI</td>\n",
       "      <td>0.0</td>\n",
       "      <td>NaN</td>\n",
       "      <td>0.0</td>\n",
       "      <td>3</td>\n",
       "      <td>bc4eff01242fff1c99aeabe198626b54</td>\n",
       "      <td>1.0</td>\n",
       "    </tr>\n",
       "    <tr>\n",
       "      <th>45524</th>\n",
       "      <td>45787</td>\n",
       "      <td>APODACA</td>\n",
       "      <td>NUEVO LEÓN</td>\n",
       "      <td>1974.0</td>\n",
       "      <td>H</td>\n",
       "      <td>MATRIMONIO</td>\n",
       "      <td>EMPLEADO</td>\n",
       "      <td>IMSS</td>\n",
       "      <td>1 AÑOS</td>\n",
       "      <td>2016-12-30</td>\n",
       "      <td>18:12:00</td>\n",
       "      <td>d41d8cd98f00b204e9800998ecf8427e</td>\n",
       "      <td>VALORACIÓN EXPRESS</td>\n",
       "      <td>INTERNET</td>\n",
       "      <td>0.0</td>\n",
       "      <td>NaN</td>\n",
       "      <td>0.0</td>\n",
       "      <td>6</td>\n",
       "      <td>d41d8cd98f00b204e9800998ecf8427e</td>\n",
       "      <td>1.0</td>\n",
       "    </tr>\n",
       "  </tbody>\n",
       "</table>\n",
       "<p>45525 rows × 20 columns</p>\n",
       "</div>"
      ],
      "text/plain": [
       "       IdProspecto              Town       State  YearBirth  Sex  \\\n",
       "0                4               NaN         NaN        NaN  NaN   \n",
       "1                5          ESCOBEDO  NUEVO LEÓN     1960.0    M   \n",
       "2                6               NaN         NaN        NaN    H   \n",
       "3                7               NaN         NaN        NaN  NaN   \n",
       "4                8         GUADALUPE  NUEVO LEÓN        NaN    M   \n",
       "...            ...               ...         ...        ...  ...   \n",
       "45520        45783  GENERAL ESCOBEDO  NUEVO LEÓN     1973.0    H   \n",
       "45521        45784         MONTERREY  NUEVO LEÓN     1943.0    H   \n",
       "45522        45785         MONTERREY  NUEVO LEÓN     1969.0    H   \n",
       "45523        45786  GENERAL ESCOBEDO  NUEVO LEÓN     1966.0    M   \n",
       "45524        45787           APODACA  NUEVO LEÓN     1974.0    H   \n",
       "\n",
       "      Marital status   Ocupacion Social Security HaceCuantoTieneDiabetes  \\\n",
       "0                NaN         NaN             NaN                     NaN   \n",
       "1                NaN         NaN             NaN                  2 AÑOS   \n",
       "2                NaN         NaN             NaN                     NaN   \n",
       "3                NaN         NaN             NaN                     NaN   \n",
       "4                NaN         NaN            IMSS                 10 AÑOS   \n",
       "...              ...         ...             ...                     ...   \n",
       "45520     MATRIMONIO    EMPLEADO            IMSS                   1 AÑO   \n",
       "45521     MATRIMONIO  PENSIONADO            IMSS                     NaN   \n",
       "45522       DIVORCIO    EMPLEADO            IMSS                     NaN   \n",
       "45523     MATRIMONIO       HOGAR            IMSS                  2 AÑOS   \n",
       "45524     MATRIMONIO    EMPLEADO            IMSS                 1 AÑOS    \n",
       "\n",
       "      Create Date Create Time                          Username  \\\n",
       "0      2013-01-01         NaN  d41d8cd98f00b204e9800998ecf8427e   \n",
       "1      2013-01-01         NaN  d41d8cd98f00b204e9800998ecf8427e   \n",
       "2      2013-01-01         NaN  d41d8cd98f00b204e9800998ecf8427e   \n",
       "3      2013-01-01         NaN  d41d8cd98f00b204e9800998ecf8427e   \n",
       "4      2013-01-01         NaN  d41d8cd98f00b204e9800998ecf8427e   \n",
       "...           ...         ...                               ...   \n",
       "45520  2016-12-30    16:49:34  d41d8cd98f00b204e9800998ecf8427e   \n",
       "45521  2016-12-30    16:54:18  d41d8cd98f00b204e9800998ecf8427e   \n",
       "45522  2016-12-30    17:06:30  d41d8cd98f00b204e9800998ecf8427e   \n",
       "45523  2016-12-30    17:10:36  d41d8cd98f00b204e9800998ecf8427e   \n",
       "45524  2016-12-30    18:12:00  d41d8cd98f00b204e9800998ecf8427e   \n",
       "\n",
       "                    Interest     HowInteger  glucose Date Appointment  \\\n",
       "0         PLÁTICAS O EVENTOS            NaN      0.0              NaN   \n",
       "1         VALORACIÓN EXPRESS              C    371.0              NaN   \n",
       "2              SÓLO INFORMES            NaN      0.0              NaN   \n",
       "3      PAQUETE PARA FAMILIAR            NaN      0.0              NaN   \n",
       "4         VALORACIÓN EXPRESS              C    224.0              NaN   \n",
       "...                      ...            ...      ...              ...   \n",
       "45520     VALORACIÓN EXPRESS    RECOMENDADO      0.0              NaN   \n",
       "45521     VALORACIÓN EXPRESS  PASA POR AQUI      0.0              NaN   \n",
       "45522     VALORACIÓN EXPRESS     TELEVISION      0.0              NaN   \n",
       "45523     VALORACIÓN EXPRESS  PASA POR AQUI      0.0              NaN   \n",
       "45524     VALORACIÓN EXPRESS       INTERNET      0.0              NaN   \n",
       "\n",
       "       Patient ID  Branch id                     Sales Advisor  Have diabetes  \n",
       "0             0.0          1                               NaN            NaN  \n",
       "1             0.0          1                               NaN            1.0  \n",
       "2             0.0          1                               NaN            NaN  \n",
       "3             0.0          1                               NaN            NaN  \n",
       "4             0.0          1                               NaN            NaN  \n",
       "...           ...        ...                               ...            ...  \n",
       "45520         0.0          3  d41d8cd98f00b204e9800998ecf8427e            1.0  \n",
       "45521         0.0          4  d41d8cd98f00b204e9800998ecf8427e            0.0  \n",
       "45522         0.0          1  d41d8cd98f00b204e9800998ecf8427e            0.0  \n",
       "45523         0.0          3  bc4eff01242fff1c99aeabe198626b54            1.0  \n",
       "45524         0.0          6  d41d8cd98f00b204e9800998ecf8427e            1.0  \n",
       "\n",
       "[45525 rows x 20 columns]"
      ]
     },
     "execution_count": 85,
     "metadata": {},
     "output_type": "execute_result"
    }
   ],
   "source": [
    "#Q1: Each team should create ten hypotheses to test about relationships between potential predictors and \n",
    "#diabetes patient engagement. An example might be that patients who live close to a clinic \n",
    "#are more likely to be highly engaged in their treatment.\n",
    "\n",
    "df_prospectos"
   ]
  },
  {
   "cell_type": "code",
   "execution_count": 61,
   "metadata": {},
   "outputs": [],
   "source": [
    "#Q2 Profiling should include at a minimum the number of records in a file, the fields in a record, and for each field, \n",
    "#the format of the data, units, the range of values, and summary statistics for numeric data. \n",
    "#You should create some data visualizations to understand the range of values and spot outliers\n"
   ]
  },
  {
   "cell_type": "code",
   "execution_count": null,
   "metadata": {},
   "outputs": [],
   "source": [
    "#Q3  Skips appointment, from the input file Balance – Tablas (Parte 1)\n",
    "#Cancels appointment, from the input file Balance – Tablas (Parte 1)\n",
    "#Reschedules appointment, from the input file Balance – Tablas (Parte 1)"
   ]
  },
  {
   "cell_type": "code",
   "execution_count": null,
   "metadata": {},
   "outputs": [],
   "source": [
    "#Q4 Demographics, from the input files Balance – Tablas (Parte 1). For example marital status could be derived from EstadoCivil\n",
    "#Geography, from the input files Balance – Tablas (Parte 1). For example,\n",
    "#distance from clinic is dependent on city and state which are in Ciudad and Estado respectively"
   ]
  },
  {
   "cell_type": "code",
   "execution_count": null,
   "metadata": {},
   "outputs": [],
   "source": [
    "df = pd.read_csv('./analytic_data2021.csv')"
   ]
  },
  {
   "cell_type": "code",
   "execution_count": null,
   "metadata": {},
   "outputs": [],
   "source": [
    "#Q1: basic statistics of the dataset \n",
    "print(df.describe())\n",
    "\n",
    "print(df.shape)\n",
    "#3194 rows, 71 columns (num of variables)"
   ]
  },
  {
   "cell_type": "code",
   "execution_count": null,
   "metadata": {},
   "outputs": [],
   "source": [
    "#Q1:check missing values\n",
    "\n",
    "pd.set_option('display.max_rows', None)\n",
    "df.isnull().sum(axis = 0).sort_values()\n",
    "\n",
    "#most of the columns have over 20% of missing values. Decided to drop the columns if it has 20% or more missing values. "
   ]
  },
  {
   "cell_type": "code",
   "execution_count": null,
   "metadata": {},
   "outputs": [],
   "source": [
    "#Q1: after dropping above columns, use median imputation for other columns.\n",
    "df = df.fillna(df.median())"
   ]
  },
  {
   "cell_type": "code",
   "execution_count": null,
   "metadata": {},
   "outputs": [],
   "source": []
  },
  {
   "cell_type": "code",
   "execution_count": null,
   "metadata": {},
   "outputs": [],
   "source": [
    "f = plt.figure(figsize=(25, 25))\n",
    "plt.matshow(df.corr(), fignum=f.number)\n",
    "plt.xticks(range(df.select_dtypes(['number']).shape[1]), df.select_dtypes(['number']).columns)\n",
    "plt.yticks(range(df.select_dtypes(['number']).shape[1]), df.select_dtypes(['number']).columns)\n",
    "cb = plt.colorbar()\n",
    "cb.ax.tick_params(labelsize=8)\n",
    "plt.title('Correlation Matrix', fontsize=10);"
   ]
  },
  {
   "cell_type": "code",
   "execution_count": null,
   "metadata": {},
   "outputs": [],
   "source": [
    "#Q1: checking outliers for Premature death raw value which is our outcome variable in the next tasks\n",
    "sns.boxplot(x=df[\"Premature death raw value\"])\n",
    "\n",
    "#de_filtered - our final clean dataset\n",
    "df_filtered = df[np.abs(df[\"Premature death raw value\"]-df[\"Premature death raw value\"].mean()) <= (3*df[\"Premature death raw value\"].std())]  \n",
    "print(df_filtered.shape)\n",
    "\n",
    "#removed 3194-3158 = 36 rows of the v001_rawvalue which are 3 SD away from the data."
   ]
  },
  {
   "cell_type": "code",
   "execution_count": null,
   "metadata": {},
   "outputs": [],
   "source": [
    "print(df['SalePrice'].describe())\n",
    "plt.figure(figsize=(9, 8))\n",
    "sns.distplot(df['SalePrice'], color='g', bins=100, hist_kws={'alpha': 0.4});"
   ]
  }
 ],
 "metadata": {
  "kernelspec": {
   "display_name": "Python 3",
   "language": "python",
   "name": "python3"
  },
  "language_info": {
   "codemirror_mode": {
    "name": "ipython",
    "version": 3
   },
   "file_extension": ".py",
   "mimetype": "text/x-python",
   "name": "python",
   "nbconvert_exporter": "python",
   "pygments_lexer": "ipython3",
   "version": "3.8.5"
  }
 },
 "nbformat": 4,
 "nbformat_minor": 4
}
