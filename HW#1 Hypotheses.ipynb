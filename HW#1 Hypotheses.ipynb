{
 "cells": [
  {
   "cell_type": "markdown",
   "id": "56f58e49",
   "metadata": {},
   "source": [
    "### Potential predictors for diabetes patient engagement:\n",
    "\n",
    "(1) **Background Family inherited Diabetes**: If a person's family has a history of diabetes, the person might know more about the side effects of diabetes and thus might engage more in the treatment.\n",
    "\n",
    "(2) **Weight and height**: If the ratio between weight/height is over a threshold, which means the person is obesity, then, the person might be less willing to participate in the engagement.\n",
    "\n",
    "(3) **Pathological personal history Diabetes Year**: If the person have got diabetes for years, then, the person might have more knowledge about diabetes and thus might engage more in the treatment.\n",
    "\n",
    "(4) **Patient consumes alcohol**: If a person consumes alcohol, then, this person might be less willing to participate in the engagement.\n",
    "\n",
    "(5) **Age**: Different group of age might constitute different conceptions toward the diabetes treatment and hence create different engagement level.\n",
    "\n",
    "(6) **Occupation**: Different occupations might impact the hours/available time to stay engaged with the treatment / patients higher-paying occupation might be more concered about their health and they are more engaged than patients with lower income group.\n",
    "\n",
    "(7) **Sex**: Certain types of engagements migth be more effective than women than for  men or vice versa.\n",
    "\n",
    "(8) **Town, State**: Distance from clinic like city and state might be a barrier to keep staying high engagement with patients. \n",
    "\n",
    "(9) **Interest**: Interest towards any engagement activity might be useful to predict which intervention is more effective than others.\n",
    "\n",
    "(10) **Hospitalization and Re-admission**: Patients who have been re-admitted within certain duration may lose trust in program and that might affect engagement negatively. While patients who had been admitted and seen positive results may be more cautious and engage regularly to avoid hospitalization situation again.\n",
    "\n",
    "(11) **Prospect duration**: If the patient was on the prospective list before enrolling, they might have done more careful research before subscribing"
   ]
  }
 ],
 "metadata": {
  "kernelspec": {
   "display_name": "Python 3",
   "language": "python",
   "name": "python3"
  },
  "language_info": {
   "codemirror_mode": {
    "name": "ipython",
    "version": 3
   },
   "file_extension": ".py",
   "mimetype": "text/x-python",
   "name": "python",
   "nbconvert_exporter": "python",
   "pygments_lexer": "ipython3",
   "version": "3.8.8"
  }
 },
 "nbformat": 4,
 "nbformat_minor": 5
}
