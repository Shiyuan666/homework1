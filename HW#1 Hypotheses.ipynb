{
 "cells": [
  {
   "cell_type": "markdown",
   "id": "69a65c22",
   "metadata": {},
   "source": [
    "**Team 1 :**\n",
    "   * Shobhit Aggarwal (shobhita)\n",
    "   * Ho Kit Fu (hoikitf)\n",
    "   * Shiyuan Li (shiyuan2)"
   ]
  },
  {
   "cell_type": "markdown",
   "id": "56f58e49",
   "metadata": {},
   "source": [
    "# Potential predictors for diabetes patient engagement:\n",
    "\n",
    "(1) **Background Family inherited Diabetes**: If a person's family has a history of diabetes, the person might know more about the side effects of diabetes and thus might engage more in the treatment.\n",
    "\n",
    "(2) **Weight and height**: If the ratio between weight/height is over a threshold, which means the person is obesity, then, the person might be less willing to participate in the engagement.\n",
    "\n",
    "(3) **Pathological personal history Diabetes Year**: If the person have got diabetes for years, then, the person might have more knowledge about diabetes and thus might engage more in the treatment.\n",
    "\n",
    "(4) **Patient consumes alcohol**: If a person consumes alcohol, then, this person might be less willing to participate in the engagement.\n",
    "\n",
    "(5) **Age**: Different group of age might constitute different conceptions toward the diabetes treatment and hence create different engagement level.\n",
    "\n",
    "(6) **Occupation**: Different occupations might impact the hours/available time to stay engaged with the treatment / patients higher-paying occupation might be more concered about their health and they are more engaged than patients with lower income group.\n",
    "\n",
    "(7) **Sex**: Certain types of engagements migth be more effective than women than for  men or vice versa.\n",
    "\n",
    "(8) **Town, State**: Distance from clinic like city and state might be a barrier to keep staying high engagement with patients. \n",
    "\n",
    "(9) **Hospitalization and Re-admission**: Patients who have been re-admitted within certain duration may lose trust in program and that might affect engagement negatively. While patients who had been admitted and seen positive results may be more cautious and engage regularly to avoid hospitalization situation again.\n",
    "\n",
    "(10) **Prospect duration**: If the patient was on the prospective list before enrolling, they might have done more careful research before subscribing"
   ]
  },
  {
   "cell_type": "markdown",
   "id": "249a9fe6",
   "metadata": {},
   "source": [
    "# MainEDA.ipynb Organization\n",
    "\n",
    "The python file is organized under four headers as described below:\n",
    "\n",
    "* **Import and Headers Translation** : Import ./Balance - Tablas (Parte 1 ).xlsx and ./DataDictionary.xlsx file from same directory. Reads each tab as seperate headers and translate their headers for better understanding during EDA\n",
    "\n",
    "* **Profiling and cleaning dataset** : This addresses the second part of the HW1 which required us to profile the dataset using Python\n",
    "\n",
    "* **Derive subsets of the outcome variables** : Addresses the third part of HW1 and gives output of 3 csv files for following outcome variables\n",
    "\n",
    "    - Skips appointment\n",
    "    - Cancels appointment\n",
    "    - Reschedules appointment\n",
    "\n",
    "* **Derive a subset of the engagement predictor variables** : Part 4 of HW1 which produces csv files for following predictor variables\n",
    "\n",
    "    - Demographics\n",
    "    - Geography\n"
   ]
  }
 ],
 "metadata": {
  "kernelspec": {
   "display_name": "Python 3",
   "language": "python",
   "name": "python3"
  },
  "language_info": {
   "codemirror_mode": {
    "name": "ipython",
    "version": 3
   },
   "file_extension": ".py",
   "mimetype": "text/x-python",
   "name": "python",
   "nbconvert_exporter": "python",
   "pygments_lexer": "ipython3",
   "version": "3.8.8"
  }
 },
 "nbformat": 4,
 "nbformat_minor": 5
}
